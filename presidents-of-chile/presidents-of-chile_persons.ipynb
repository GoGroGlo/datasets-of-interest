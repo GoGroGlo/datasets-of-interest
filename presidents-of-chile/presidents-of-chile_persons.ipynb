{
 "cells": [
  {
   "cell_type": "markdown",
   "metadata": {},
   "source": [
    "# presidents-of-chile_persons"
   ]
  },
  {
   "cell_type": "markdown",
   "metadata": {},
   "source": [
    "**Goal:** Derive more demographic info for more interesting analyses"
   ]
  },
  {
   "cell_type": "markdown",
   "metadata": {},
   "source": [
    "## Import and cleanup"
   ]
  },
  {
   "cell_type": "markdown",
   "metadata": {},
   "source": [
    "Let's start with importing important modules and loading the `persons` table."
   ]
  },
  {
   "cell_type": "code",
   "execution_count": 89,
   "metadata": {},
   "outputs": [
    {
     "name": "stdout",
     "output_type": "stream",
     "text": [
      "  person_id                                full_name date_of_birth  \\\n",
      "0     P0001   Manuel José Blanco y Calvo de Encalada    1790-04-21   \n",
      "1     P0002  Agustín Manuel de Eyzaguirre Arechavala    1768-05-03   \n",
      "2     P0003  Ramón Saturnino Andrés Freire y Serrano    1787-11-29   \n",
      "\n",
      "  date_of_death place_of_birth        region_of_birth  is_woman  \n",
      "0    1876-09-05   Buenos Aires              Argentina         0  \n",
      "1    1837-07-19       Santiago  Santiago Metropolitan         0  \n",
      "2    1851-12-09       Santiago  Santiago Metropolitan         0  \n",
      "   person_id                               full_name date_of_birth  \\\n",
      "53     P0054        Verónica Michelle Bachelet Jeria    1951-09-29   \n",
      "54     P0055  Miguel Juan Sebastián Piñera Echenique    1949-12-01   \n",
      "55     P0056                      Gabriel Boric Font    1986-02-11   \n",
      "\n",
      "   date_of_death place_of_birth                    region_of_birth  is_woman  \n",
      "53           NaN       Santiago              Santiago Metropolitan         1  \n",
      "54           NaN       Santiago              Santiago Metropolitan         0  \n",
      "55           NaN   Punta Arenas  Magallanes and Chilean Antarctica         0  \n"
     ]
    }
   ],
   "source": [
    "import pandas as pd\n",
    "import numpy as np\n",
    "from datetime import date\n",
    "from datetime import datetime\n",
    "from datetime import timedelta\n",
    "from dateutil.relativedelta import relativedelta\n",
    "from math import nan\n",
    "import re\n",
    "\n",
    "persons = pd.read_csv(\"presidents-of-chile_persons.csv\")\n",
    "\n",
    "#quick view of what the table contains\n",
    "print(persons.head(3))\n",
    "print(persons.tail(3))\n"
   ]
  },
  {
   "cell_type": "code",
   "execution_count": 90,
   "metadata": {},
   "outputs": [
    {
     "name": "stdout",
     "output_type": "stream",
     "text": [
      "<class 'pandas.core.frame.DataFrame'>\n",
      "RangeIndex: 56 entries, 0 to 55\n",
      "Data columns (total 7 columns):\n",
      " #   Column           Non-Null Count  Dtype \n",
      "---  ------           --------------  ----- \n",
      " 0   person_id        56 non-null     object\n",
      " 1   full_name        56 non-null     object\n",
      " 2   date_of_birth    56 non-null     object\n",
      " 3   date_of_death    51 non-null     object\n",
      " 4   place_of_birth   56 non-null     object\n",
      " 5   region_of_birth  56 non-null     object\n",
      " 6   is_woman         56 non-null     int64 \n",
      "dtypes: int64(1), object(6)\n",
      "memory usage: 3.2+ KB\n",
      "None\n"
     ]
    }
   ],
   "source": [
    "# quick view of what columns we have\n",
    "print(persons.info())"
   ]
  },
  {
   "cell_type": "markdown",
   "metadata": {},
   "source": [
    "We need to format date columns as dates, but before that we have to clean up some \"non-dates\".\n",
    "\n",
    "A note about how I collected the data here:\n",
    "* When the year is known but not the month and day, I put XXXX-00-00 because I know for a fact that one of the persons here was actually born on 01-01, so I can't use that as a placeholder. Now I don't know if some fake date like 02-31 is supported as a placeholder.\n",
    "* When the month and day are known but not the year, I put 0000-XX-XX.\n",
    "\n",
    "Time to clean up these non-dates without touching the CSV itself..."
   ]
  },
  {
   "cell_type": "code",
   "execution_count": 91,
   "metadata": {},
   "outputs": [
    {
     "name": "stdout",
     "output_type": "stream",
     "text": [
      "   person_id                                          full_name date_of_birth  \\\n",
      "6      P0007  Francisco Antonio Pascual de la Ascensión Ruiz...    1790-00-00   \n",
      "22     P0023                             Elías Fernández Albano    1845-00-00   \n",
      "35     P0036                                 Arturo Puga Osorio    1879-00-00   \n",
      "\n",
      "   date_of_death place_of_birth        region_of_birth  is_woman  \n",
      "6     1860-03-23       Santiago  Santiago Metropolitan         0  \n",
      "22    1910-09-06       Santiago  Santiago Metropolitan         0  \n",
      "35    0000-04-28       Santiago  Santiago Metropolitan         0  \n",
      "   person_id           full_name date_of_birth date_of_death place_of_birth  \\\n",
      "35     P0036  Arturo Puga Osorio    1879-00-00    0000-04-28       Santiago   \n",
      "\n",
      "          region_of_birth  is_woman  \n",
      "35  Santiago Metropolitan         0  \n",
      "  person_id                                full_name date_of_birth  \\\n",
      "0     P0001   Manuel José Blanco y Calvo de Encalada    1790-04-21   \n",
      "1     P0002  Agustín Manuel de Eyzaguirre Arechavala    1768-05-03   \n",
      "2     P0003  Ramón Saturnino Andrés Freire y Serrano    1787-11-29   \n",
      "\n",
      "  date_of_death place_of_birth        region_of_birth  is_woman  \n",
      "0    1876-09-05   Buenos Aires              Argentina         0  \n",
      "1    1837-07-19       Santiago  Santiago Metropolitan         0  \n",
      "2    1851-12-09       Santiago  Santiago Metropolitan         0  \n",
      "   person_id                               full_name date_of_birth  \\\n",
      "53     P0054        Verónica Michelle Bachelet Jeria    1951-09-29   \n",
      "54     P0055  Miguel Juan Sebastián Piñera Echenique    1949-12-01   \n",
      "55     P0056                      Gabriel Boric Font    1986-02-11   \n",
      "\n",
      "   date_of_death place_of_birth                    region_of_birth  is_woman  \n",
      "53           NaT       Santiago              Santiago Metropolitan         1  \n",
      "54           NaT       Santiago              Santiago Metropolitan         0  \n",
      "55           NaT   Punta Arenas  Magallanes and Chilean Antarctica         0  \n",
      "<class 'pandas.core.frame.DataFrame'>\n",
      "RangeIndex: 56 entries, 0 to 55\n",
      "Data columns (total 7 columns):\n",
      " #   Column           Non-Null Count  Dtype         \n",
      "---  ------           --------------  -----         \n",
      " 0   person_id        56 non-null     object        \n",
      " 1   full_name        56 non-null     object        \n",
      " 2   date_of_birth    53 non-null     datetime64[ns]\n",
      " 3   date_of_death    50 non-null     datetime64[ns]\n",
      " 4   place_of_birth   56 non-null     object        \n",
      " 5   region_of_birth  56 non-null     object        \n",
      " 6   is_woman         56 non-null     int64         \n",
      "dtypes: datetime64[ns](2), int64(1), object(4)\n",
      "memory usage: 3.2+ KB\n",
      "None\n"
     ]
    }
   ],
   "source": [
    "# find and clean up wrongly formatted dates by making them null\n",
    "print(persons[persons['date_of_birth'].str.contains('00-?00', regex=True) == True])  # index 6, 22, 35\n",
    "print(persons[persons['date_of_death'].str.contains('00-?00', regex=True) == True])  # index 35\n",
    "\n",
    "persons.loc[[6, 22, 35], 'date_of_birth'] = ''\n",
    "persons.loc[35, 'date_of_death'] = ''\n",
    "\n",
    "# convert dates to date format\n",
    "persons['date_of_birth'] = pd.to_datetime(persons['date_of_birth'], format='%Y-%m-%d')\n",
    "persons['date_of_death'] = pd.to_datetime(persons['date_of_death'], format='%Y-%m-%d')\n",
    "\n",
    "# quick view of what the table contains\n",
    "print(persons.head(3))\n",
    "print(persons.tail(3))\n",
    "print(persons.info())\n"
   ]
  },
  {
   "cell_type": "markdown",
   "metadata": {},
   "source": [
    "## Age"
   ]
  },
  {
   "cell_type": "markdown",
   "metadata": {},
   "source": [
    "The first thing we can add is each person's age: this is the current age if alive, otherwise the age upon death."
   ]
  },
  {
   "cell_type": "code",
   "execution_count": 95,
   "metadata": {},
   "outputs": [
    {
     "name": "stdout",
     "output_type": "stream",
     "text": [
      "   person_id                                          full_name date_of_birth  \\\n",
      "52     P0053                      Ricardo Froilán Lagos Escobar    1938-03-02   \n",
      "48     P0049                 Salvador Guillermo Allende Gossens    1908-06-26   \n",
      "46     P0047                 Jorge Eduardo Alessandri Rodríguez    1896-05-19   \n",
      "30     P0031                                Luis Barros Borgoño    1858-03-26   \n",
      "16     P0017                    Manuel Jesús Baquedano González    1823-01-01   \n",
      "50     P0051                      Miguel Patricio Aylwin Azócar    1918-11-26   \n",
      "24     P0025                             José Ramón Barros Luco    1835-06-09   \n",
      "6      P0007  Francisco Antonio Pascual de la Ascensión Ruiz...           NaT   \n",
      "22     P0023                             Elías Fernández Albano           NaT   \n",
      "35     P0036                                 Arturo Puga Osorio           NaT   \n",
      "\n",
      "   date_of_death place_of_birth        region_of_birth  is_woman  is_alive  \\\n",
      "52    2023-02-19       Santiago  Santiago Metropolitan         0         1   \n",
      "48    1973-09-11       Santiago  Santiago Metropolitan         0         0   \n",
      "46    1986-08-31       Santiago  Santiago Metropolitan         0         0   \n",
      "30    1943-07-26       Santiago  Santiago Metropolitan         0         0   \n",
      "16    1897-09-30       Santiago  Santiago Metropolitan         0         0   \n",
      "50    2016-04-19   Viña del Mar             Valparaíso         0         0   \n",
      "24    1919-09-20       Santiago  Santiago Metropolitan         0         0   \n",
      "6     1860-03-23       Santiago  Santiago Metropolitan         0         0   \n",
      "22    1910-09-06       Santiago  Santiago Metropolitan         0         0   \n",
      "35    2023-02-19       Santiago  Santiago Metropolitan         0         1   \n",
      "\n",
      "          age  \n",
      "52  84.969199  \n",
      "48   65.21013  \n",
      "46   90.28063  \n",
      "30  85.330595  \n",
      "16  74.746064  \n",
      "50  97.396304  \n",
      "24  84.279261  \n",
      "6         NaN  \n",
      "22        NaN  \n",
      "35        NaN  \n"
     ]
    }
   ],
   "source": [
    "# get date today and format it as YYYY-MM-DD\n",
    "date_today = pd.to_datetime(datetime.today().strftime('%Y-%m-%d'), format='%Y-%m-%d')\n",
    "\n",
    "# alive people have their date_of_death set to null. to properly calculate their ages we need to fill date_of_death with the current date.\n",
    "for index, value in persons.iterrows():\n",
    "    if pd.isnull(value['date_of_death']):\n",
    "        persons.loc[index, 'date_of_death'] = date_today\n",
    "\n",
    "# create new column to quickly specify if the person is alive\n",
    "# persons.loc[:, 'is_alive'] = 0\n",
    "persons['is_alive'[:]] = 0\n",
    "\n",
    "for index, value in persons.iterrows():\n",
    "    if value['date_of_death'] == date_today:\n",
    "        persons.loc[index, 'is_alive'] = 1\n",
    "\n",
    "# create age column\n",
    "# persons.loc[:, 'age'] = abs(persons['date_of_death'] - persons['date_of_birth'])\n",
    "persons['age'[:]] = abs(persons['date_of_death'] - persons['date_of_birth'])\n",
    "\n",
    "for index, value in persons['age'].items():\n",
    "    if pd.isnull(value):\n",
    "        persons.at[index, 'age'] = nan\n",
    "    else:\n",
    "        value.to_pytimedelta()\n",
    "        # force the float 365.25 into a timedelta so that the next division returns a float\n",
    "        days_in_a_yr = timedelta(days=365.25)\n",
    "        value = value / days_in_a_yr\n",
    "        persons.at[index, 'age'] = float(value)\n",
    "\n",
    "# print only the important columns\n",
    "persons = persons.loc[:, ['person_id', 'full_name', 'date_of_birth', 'date_of_death',\n",
    "                          'place_of_birth', 'region_of_birth', 'is_woman', 'is_alive', 'age']]\n",
    "print(persons.tail(10))\n",
    "\n",
    "# DeprecationWarning: In a future version, `df.iloc[:, i] = newvals` will attempt to set the values inplace instead of always setting a new array. \n",
    "# To retain the old behavior, use either `df[df.columns[i]] = newvals` or, if columns are non-unique, `df.isetitem(i, newvals)`\n",
    "# persons.loc[:, 'age'] = abs(persons['date_of_death'] - persons['date_of_birth'])\n"
   ]
  },
  {
   "cell_type": "markdown",
   "metadata": {},
   "source": [
    "Chilean people have two surnames, and like all other people they have preferred given names. The surnames and preferred given names are in the `tenures` table, so we have to join this with `persons`."
   ]
  },
  {
   "cell_type": "code",
   "execution_count": 117,
   "metadata": {},
   "outputs": [
    {
     "name": "stdout",
     "output_type": "stream",
     "text": [
      "   person_id first_surname second_surname given_name  \\\n",
      "74     P0051        Aylwin         Azócar   Patricio   \n",
      "75     P0025        Barros           Luco      Ramón   \n",
      "76     P0007    Ruiz-Tagle       Portales  Francisco   \n",
      "77     P0023     Fernández         Albano      Elías   \n",
      "78     P0036          Puga         Osorio     Arturo   \n",
      "\n",
      "                                            full_name date_of_birth  \\\n",
      "74                      Miguel Patricio Aylwin Azócar    1918-11-26   \n",
      "75                             José Ramón Barros Luco    1835-06-09   \n",
      "76  Francisco Antonio Pascual de la Ascensión Ruiz...           NaT   \n",
      "77                             Elías Fernández Albano           NaT   \n",
      "78                                 Arturo Puga Osorio           NaT   \n",
      "\n",
      "   date_of_death place_of_birth        region_of_birth  is_woman  is_alive  \\\n",
      "74    2016-04-19   Viña del Mar             Valparaíso         0         0   \n",
      "75    1919-09-20       Santiago  Santiago Metropolitan         0         0   \n",
      "76    1860-03-23       Santiago  Santiago Metropolitan         0         0   \n",
      "77    1910-09-06       Santiago  Santiago Metropolitan         0         0   \n",
      "78    2023-02-19       Santiago  Santiago Metropolitan         0         1   \n",
      "\n",
      "          age date_tenure_start date_tenure_end  \n",
      "74  97.396304        1990-03-11      1994-03-11  \n",
      "75  84.279261        1910-12-23      1915-12-23  \n",
      "76        NaN        1830-02-18      1830-04-01  \n",
      "77        NaN        1910-08-16      1910-09-06  \n",
      "78        NaN        1932-06-04      1932-06-13  \n",
      "<class 'pandas.core.frame.DataFrame'>\n",
      "RangeIndex: 79 entries, 0 to 78\n",
      "Data columns (total 14 columns):\n",
      " #   Column             Non-Null Count  Dtype         \n",
      "---  ------             --------------  -----         \n",
      " 0   person_id          79 non-null     object        \n",
      " 1   first_surname      79 non-null     object        \n",
      " 2   second_surname     79 non-null     object        \n",
      " 3   given_name         79 non-null     object        \n",
      " 4   full_name          79 non-null     object        \n",
      " 5   date_of_birth      76 non-null     datetime64[ns]\n",
      " 6   date_of_death      79 non-null     datetime64[ns]\n",
      " 7   place_of_birth     79 non-null     object        \n",
      " 8   region_of_birth    79 non-null     object        \n",
      " 9   is_woman           79 non-null     int64         \n",
      " 10  is_alive           79 non-null     int64         \n",
      " 11  age                76 non-null     object        \n",
      " 12  date_tenure_start  79 non-null     datetime64[ns]\n",
      " 13  date_tenure_end    78 non-null     datetime64[ns]\n",
      "dtypes: datetime64[ns](4), int64(2), object(8)\n",
      "memory usage: 8.8+ KB\n",
      "None\n"
     ]
    }
   ],
   "source": [
    "# import tenures from CSV\n",
    "tenures = pd.read_csv(\"presidents-of-chile_tenures.csv\")\n",
    "\n",
    "# convert dates to date format\n",
    "tenures['date_tenure_start'] = pd.to_datetime(tenures['date_tenure_start'], format='%Y-%m-%d')\n",
    "tenures['date_tenure_end'] = pd.to_datetime(tenures['date_tenure_end'], format='%Y-%m-%d')\n",
    "\n",
    "# set index on both tables so that the joining works (hopefully)\n",
    "persons.set_index('person_id')\n",
    "tenures.set_index('person_id')\n",
    "\n",
    "# join on person_id\n",
    "persons = persons.merge(tenures, on='person_id', how='inner')\n",
    "persons = persons.loc[:, ['person_id', 'first_surname', 'second_surname', 'given_name', 'full_name',\n",
    "                        'date_of_birth', 'date_of_death', 'place_of_birth', 'region_of_birth',\n",
    "                        'is_woman', 'is_alive', 'age', 'date_tenure_start', 'date_tenure_end']]\n",
    "\n",
    "# remove duplicates\n",
    "persons.drop_duplicates(inplace=True, ignore_index=True)\n",
    "\n",
    "print(persons.tail(5))\n",
    "print(persons.info())\n"
   ]
  },
  {
   "cell_type": "markdown",
   "metadata": {},
   "source": [
    "## Age upon taking office"
   ]
  },
  {
   "cell_type": "markdown",
   "metadata": {},
   "source": [
    "At what age did a president take office? Everyone agrees that Gabriel Boric is the youngest president to take office, but let's make the data to back it up."
   ]
  },
  {
   "cell_type": "code",
   "execution_count": 118,
   "metadata": {},
   "outputs": [
    {
     "name": "stdout",
     "output_type": "stream",
     "text": [
      "  person_id first_surname second_surname         given_name  \\\n",
      "0     P0056         Boric           Font            Gabriel   \n",
      "1     P0001        Blanco       Encalada             Manuel   \n",
      "2     P0003        Freire        Serrano              Ramón   \n",
      "3     P0010        Bulnes         Prieto             Manuel   \n",
      "4     P0004         Pinto           Díaz  Francisco Antonio   \n",
      "5     P0006        Ovalle      Bezanilla  José Tomás Ovalle   \n",
      "6     P0011         Montt         Torres             Manuel   \n",
      "7     P0024      Figueroa        Larraín           Emiliano   \n",
      "8     P0037        Dávila       Espinoza             Carlos   \n",
      "9     P0009        Prieto           Vial            Joaquín   \n",
      "\n",
      "                                      full_name date_of_birth date_of_death  \\\n",
      "0                            Gabriel Boric Font    1986-02-11    2023-02-19   \n",
      "1        Manuel José Blanco y Calvo de Encalada    1790-04-21    1876-09-05   \n",
      "2       Ramón Saturnino Andrés Freire y Serrano    1787-11-29    1851-12-09   \n",
      "3                          Manuel Bulnes Prieto    1799-12-25    1866-10-18   \n",
      "4   Francisco Antonio Pinto y Díaz de la Puente    1785-07-23    1858-07-18   \n",
      "5                 José Tomás Ovalle y Bezanilla    1787-12-21    1831-03-21   \n",
      "6  Manuel Francisco Antonio Julián Montt Torres    1809-09-04    1880-09-21   \n",
      "7                 Pío Emiliano Figueroa Larraín    1866-07-12    1931-05-16   \n",
      "8               Carlos Gregorio Dávila Espinoza    1887-09-15    1955-10-19   \n",
      "9                           Joaquín Prieto Vial    1786-08-20    1854-11-22   \n",
      "\n",
      "  place_of_birth                    region_of_birth  is_woman  is_alive  \\\n",
      "0   Punta Arenas  Magallanes and Chilean Antarctica         0         1   \n",
      "1   Buenos Aires                          Argentina         0         0   \n",
      "2       Santiago              Santiago Metropolitan         0         0   \n",
      "3     Concepción                             Biobío         0         0   \n",
      "4       Santiago              Santiago Metropolitan         0         0   \n",
      "5       Santiago              Santiago Metropolitan         0         0   \n",
      "6        Petorca                         Valparaíso         0         0   \n",
      "7       Santiago              Santiago Metropolitan         0         0   \n",
      "8    Los Ángeles                             Biobío         0         0   \n",
      "9     Concepción                             Biobío         0         0   \n",
      "\n",
      "         age date_tenure_start date_tenure_end age_entered_office  \n",
      "0  37.021218        2022-03-11             NaT           36.07666  \n",
      "1  86.373717        1826-07-09      1826-09-09          36.213552  \n",
      "2  64.024641        1827-01-25      1827-02-15          39.154004  \n",
      "3  66.811773        1841-09-18      1846-09-18          41.730322  \n",
      "4  72.982888        1827-05-08      1829-07-16          41.787817  \n",
      "5  43.244353        1829-12-24      1830-02-18          42.006845  \n",
      "6  71.047228        1851-09-18      1856-09-18          42.036961  \n",
      "7   64.84052        1910-09-06      1910-12-23          44.150582  \n",
      "8  68.090349        1932-06-13      1932-09-13          44.741958  \n",
      "9   68.25462        1831-09-18      1836-09-18          45.075975  \n"
     ]
    }
   ],
   "source": [
    "# create age_entered_office\n",
    "persons['age_entered_office'[:]] = abs(persons['date_tenure_start'] - persons['date_of_birth'])\n",
    "\n",
    "for index, value in persons['age_entered_office'].items():\n",
    "    if pd.isnull(value):\n",
    "        persons.at[index, 'age_entered_office'] = nan\n",
    "    else:\n",
    "        value.to_pytimedelta()\n",
    "        value = value / days_in_a_yr\n",
    "        persons.at[index, 'age_entered_office'] = float(value)\n",
    "\n",
    "# remove duplicates by keeping the very first date_tenure_start\n",
    "persons.drop_duplicates(subset='person_id', keep='first', inplace=True, ignore_index=True)\n",
    "\n",
    "# sort by youngest to oldest\n",
    "persons.sort_values('age_entered_office', ascending=True, inplace=True, na_position='last')\n",
    "\n",
    "print(persons.head(10))\n"
   ]
  },
  {
   "cell_type": "markdown",
   "metadata": {},
   "source": [
    "In absolute terms, Gabriel Boric is _the_ youngest president who took office. However, if we consider Manuel Blanco Encalada as the very first person who held the title of \"President of Chile\" (even if on an interim basis), then these two actually share the honors of having taken office at 36 years old (or rather, young)."
   ]
  },
  {
   "cell_type": "markdown",
   "metadata": {},
   "source": [
    "Let's now find out the oldest presidents."
   ]
  },
  {
   "cell_type": "code",
   "execution_count": 119,
   "metadata": {},
   "outputs": [
    {
     "name": "stdout",
     "output_type": "stream",
     "text": [
      "   person_id first_surname second_surname    given_name  \\\n",
      "52     P0025        Barros           Luco         Ramón   \n",
      "51     P0051        Aylwin         Azócar      Patricio   \n",
      "50     P0017     Baquedano       González        Manuel   \n",
      "49     P0031        Barros        Borgoño          Luis   \n",
      "48     P0047    Alessandri      Rodríguez         Jorge   \n",
      "47     P0049       Allende        Gossens      Salvador   \n",
      "46     P0053         Lagos        Escobar       Ricardo   \n",
      "45     P0045     Iribarren        Cabezas  Juan Antonio   \n",
      "44     P0012         Pérez      Mascayano  José Joaquín   \n",
      "43     P0055        Piñera      Echenique     Sebastián   \n",
      "\n",
      "                                 full_name date_of_birth date_of_death  \\\n",
      "52                  José Ramón Barros Luco    1835-06-09    1919-09-20   \n",
      "51           Miguel Patricio Aylwin Azócar    1918-11-26    2016-04-19   \n",
      "50         Manuel Jesús Baquedano González    1823-01-01    1897-09-30   \n",
      "49                     Luis Barros Borgoño    1858-03-26    1943-07-26   \n",
      "48      Jorge Eduardo Alessandri Rodríguez    1896-05-19    1986-08-31   \n",
      "47      Salvador Guillermo Allende Gossens    1908-06-26    1973-09-11   \n",
      "46           Ricardo Froilán Lagos Escobar    1938-03-02    2023-02-19   \n",
      "45          Juan Antonio Iribarren Cabezas    1885-05-07    1968-04-11   \n",
      "44            José Joaquín Pérez Mascayano    1801-05-06    1889-06-01   \n",
      "43  Miguel Juan Sebastián Piñera Echenique    1949-12-01    2023-02-19   \n",
      "\n",
      "   place_of_birth        region_of_birth  is_woman  is_alive        age  \\\n",
      "52       Santiago  Santiago Metropolitan         0         0  84.279261   \n",
      "51   Viña del Mar             Valparaíso         0         0  97.396304   \n",
      "50       Santiago  Santiago Metropolitan         0         0  74.746064   \n",
      "49       Santiago  Santiago Metropolitan         0         0  85.330595   \n",
      "48       Santiago  Santiago Metropolitan         0         0   90.28063   \n",
      "47       Santiago  Santiago Metropolitan         0         0   65.21013   \n",
      "46       Santiago  Santiago Metropolitan         0         1  84.969199   \n",
      "45         Vicuña               Coquimbo         0         0  82.926762   \n",
      "44       Santiago  Santiago Metropolitan         0         0  88.071184   \n",
      "43       Santiago  Santiago Metropolitan         0         1  73.218344   \n",
      "\n",
      "   date_tenure_start date_tenure_end age_entered_office  \n",
      "52        1910-12-23      1915-12-23          75.537303  \n",
      "51        1990-03-11      1994-03-11          71.288159  \n",
      "50        1891-08-29      1891-08-31          68.657084  \n",
      "49        1925-10-01      1925-12-23            67.5154  \n",
      "48        1958-11-03      1964-11-03          62.455852  \n",
      "47        1970-11-03      1973-09-11          62.354552  \n",
      "46        2000-03-11      2006-03-11           62.02601  \n",
      "45        1946-10-17      1946-11-03          61.442847  \n",
      "44        1861-09-18      1866-09-18           60.36961  \n",
      "43        2010-03-11      2014-03-11          60.273785  \n"
     ]
    }
   ],
   "source": [
    "# sort by oldest to youngest\n",
    "persons.sort_values('age_entered_office', ascending=False, inplace=True, na_position='last')\n",
    "\n",
    "print(persons.head(10))\n"
   ]
  },
  {
   "cell_type": "markdown",
   "metadata": {},
   "source": [
    "Ah yes, Ramón Barros Luco, the president named after a sandwich...\n",
    "\n",
    "Hey @Salvador Allende, being president at 62 is the effect of having to run a grand total of four times. If you would've gotten the presidency the first time, you would have been..."
   ]
  },
  {
   "cell_type": "code",
   "execution_count": 121,
   "metadata": {},
   "outputs": [
    {
     "name": "stdout",
     "output_type": "stream",
     "text": [
      "relativedelta(years=+44, months=+2, days=+9)\n",
      "relativedelta(years=+50, months=+2, days=+9)\n",
      "relativedelta(years=+56, months=+2, days=+9)\n",
      "relativedelta(years=+62, months=+2, days=+9)\n"
     ]
    }
   ],
   "source": [
    "# Allende's age during his first presidential candidacy (out of four)\n",
    "print(relativedelta(date(1952,9,4), date(1908,6,26)))\n",
    "\n",
    "# second candidacy\n",
    "print(relativedelta(date(1958, 9, 4), date(1908, 6, 26)))\n",
    "\n",
    "# third candidacy\n",
    "print(relativedelta(date(1964, 9, 4), date(1908, 6, 26)))\n",
    "\n",
    "# fourth candidacy\n",
    "print(relativedelta(date(1970,9,4), date(1908,6,26)))\n"
   ]
  },
  {
   "cell_type": "markdown",
   "metadata": {},
   "source": [
    "44 years young, enough to make it to the 10 youngest presidents.\n",
    "\n",
    "Anyway, whether Allende ran the most number of elections before becoming president requires another data collection and exploration."
   ]
  }
 ],
 "metadata": {
  "kernelspec": {
   "display_name": "Python 3.11.0 64-bit",
   "language": "python",
   "name": "python3"
  },
  "language_info": {
   "codemirror_mode": {
    "name": "ipython",
    "version": 3
   },
   "file_extension": ".py",
   "mimetype": "text/x-python",
   "name": "python",
   "nbconvert_exporter": "python",
   "pygments_lexer": "ipython3",
   "version": "3.11.0"
  },
  "orig_nbformat": 4,
  "vscode": {
   "interpreter": {
    "hash": "5238573367df39f7286bb46f9ff5f08f63a01a80960060ce41e3c79b190280fa"
   }
  }
 },
 "nbformat": 4,
 "nbformat_minor": 2
}
